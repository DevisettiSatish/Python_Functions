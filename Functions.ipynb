{
 "cells": [
  {
   "cell_type": "code",
   "execution_count": 2,
   "id": "1e6b0cf5",
   "metadata": {},
   "outputs": [],
   "source": [
    "# functions is Represented with \"Def\"\n",
    "\n",
    " #syntax:- def <functionname>(parameters):\n",
    " #                logical\n"
   ]
  },
  {
   "cell_type": "code",
   "execution_count": 3,
   "id": "17971084",
   "metadata": {},
   "outputs": [
    {
     "name": "stdout",
     "output_type": "stream",
     "text": [
      " i am learing Data Science course\n"
     ]
    }
   ],
   "source": [
    "def satish():    #saving in memory\n",
    "  print(\" i am learing Data Science course\")\n",
    "    \n",
    "satish()  # calling function"
   ]
  },
  {
   "cell_type": "code",
   "execution_count": 4,
   "id": "4a0e36f5",
   "metadata": {},
   "outputs": [
    {
     "name": "stdout",
     "output_type": "stream",
     "text": [
      "i am going to hyderabad \n",
      "i am learing Full stack java\n"
     ]
    }
   ],
   "source": [
    "def pavankalyan():\n",
    "    print( 'i am going to hyderabad ')\n",
    "    print('i am learing Full stack java')\n",
    "pavankalyan()    \n",
    "    "
   ]
  },
  {
   "cell_type": "code",
   "execution_count": 25,
   "id": "27148a76",
   "metadata": {},
   "outputs": [
    {
     "name": "stdout",
     "output_type": "stream",
     "text": [
      "70\n"
     ]
    }
   ],
   "source": [
    "#with function name\n",
    "def addition(a,b):  #saving in memory\n",
    "    print(a+b)\n",
    "    \n",
    "addition(20,50)    # calling the function"
   ]
  },
  {
   "cell_type": "code",
   "execution_count": 26,
   "id": "f3b31a92",
   "metadata": {},
   "outputs": [
    {
     "name": "stdout",
     "output_type": "stream",
     "text": [
      "510\n"
     ]
    }
   ],
   "source": [
    "addition(10,500)"
   ]
  },
  {
   "cell_type": "code",
   "execution_count": 9,
   "id": "e2208875",
   "metadata": {},
   "outputs": [
    {
     "name": "stdout",
     "output_type": "stream",
     "text": [
      "200\n"
     ]
    }
   ],
   "source": [
    "def Substrication(x,y):\n",
    "    print(x-y)\n",
    "    \n",
    "Substrication(500,300)    "
   ]
  },
  {
   "cell_type": "code",
   "execution_count": 10,
   "id": "25b793de",
   "metadata": {},
   "outputs": [
    {
     "name": "stdout",
     "output_type": "stream",
     "text": [
      "20\n"
     ]
    }
   ],
   "source": [
    "def multiplication(a,b):\n",
    "    print(a*b)\n",
    "    \n",
    "    \n",
    "multiplication(10,2)    "
   ]
  },
  {
   "cell_type": "code",
   "execution_count": 11,
   "id": "48c7f4e1",
   "metadata": {},
   "outputs": [
    {
     "name": "stdout",
     "output_type": "stream",
     "text": [
      "600\n"
     ]
    }
   ],
   "source": [
    "def satish(a,b=100):\n",
    "    print(a+b)\n",
    "    \n",
    "satish(500)"
   ]
  },
  {
   "cell_type": "code",
   "execution_count": 20,
   "id": "30733115",
   "metadata": {},
   "outputs": [
    {
     "name": "stdout",
     "output_type": "stream",
     "text": [
      "36\n"
     ]
    }
   ],
   "source": [
    "def multiplication(x,y=6):\n",
    "    print(x*y)\n",
    "    \n",
    "    \n",
    "addition(6)    "
   ]
  },
  {
   "cell_type": "code",
   "execution_count": 21,
   "id": "f8fb2489",
   "metadata": {},
   "outputs": [
    {
     "name": "stdout",
     "output_type": "stream",
     "text": [
      "30\n"
     ]
    }
   ],
   "source": [
    "multiplication(5)"
   ]
  },
  {
   "cell_type": "code",
   "execution_count": 22,
   "id": "532bcd9c",
   "metadata": {},
   "outputs": [
    {
     "name": "stdout",
     "output_type": "stream",
     "text": [
      "24\n"
     ]
    }
   ],
   "source": [
    "multiplication(4)"
   ]
  },
  {
   "cell_type": "code",
   "execution_count": 14,
   "id": "0e4b4783",
   "metadata": {},
   "outputs": [
    {
     "name": "stdout",
     "output_type": "stream",
     "text": [
      "2\n",
      "4\n",
      "6\n",
      "8\n",
      "10\n",
      "12\n",
      "14\n",
      "16\n",
      "18\n"
     ]
    }
   ],
   "source": [
    "def evennumber(a,b):\n",
    "    for i in range(a,b):\n",
    "        if i%2==0:\n",
    "           print(i) \n",
    "evennumber(1,20)           "
   ]
  },
  {
   "cell_type": "code",
   "execution_count": 16,
   "id": "4fad2ca3",
   "metadata": {},
   "outputs": [
    {
     "name": "stdout",
     "output_type": "stream",
     "text": [
      "1\n",
      "3\n",
      "5\n",
      "7\n",
      "9\n",
      "11\n",
      "13\n",
      "15\n",
      "17\n",
      "19\n"
     ]
    }
   ],
   "source": [
    "def oddnumber(x,y):\n",
    "    for i in range(x,y):\n",
    "        if i%2!=0:\n",
    "            print(i)\n",
    "oddnumber(1,20)            "
   ]
  },
  {
   "cell_type": "code",
   "execution_count": 17,
   "id": "d54e7afb",
   "metadata": {},
   "outputs": [
    {
     "name": "stdout",
     "output_type": "stream",
     "text": [
      "600\n"
     ]
    }
   ],
   "source": [
    "# without function\n",
    "a=100\n",
    "b=500\n",
    "print(a+b)\n"
   ]
  },
  {
   "cell_type": "code",
   "execution_count": 18,
   "id": "b361293f",
   "metadata": {},
   "outputs": [
    {
     "name": "stdout",
     "output_type": "stream",
     "text": [
      "500\n"
     ]
    }
   ],
   "source": [
    "x=1000\n",
    "y=500\n",
    "print(1000-500)"
   ]
  },
  {
   "cell_type": "code",
   "execution_count": 28,
   "id": "a6187e3b",
   "metadata": {},
   "outputs": [
    {
     "name": "stdout",
     "output_type": "stream",
     "text": [
      "1200\n"
     ]
    }
   ],
   "source": [
    "def addition(x,y):\n",
    "    print(x+y)\n",
    "    \n",
    "a=1000\n",
    "b=200\n",
    "\n",
    "addition(a,b)   # calling the function"
   ]
  },
  {
   "cell_type": "code",
   "execution_count": 29,
   "id": "b7ba4927",
   "metadata": {},
   "outputs": [
    {
     "name": "stdout",
     "output_type": "stream",
     "text": [
      "15\n"
     ]
    }
   ],
   "source": [
    "def substrication(a,b):\n",
    "    print(a+b)\n",
    "    \n",
    "x=5\n",
    "y=10\n",
    "\n",
    "\n",
    "substrication(x,y )"
   ]
  },
  {
   "cell_type": "code",
   "execution_count": 30,
   "id": "fa164f2b",
   "metadata": {},
   "outputs": [
    {
     "name": "stdout",
     "output_type": "stream",
     "text": [
      "my institute name vihara tech\n"
     ]
    }
   ],
   "source": [
    "def satish():\n",
    "    print('my institute name vihara tech')\n",
    "satish()"
   ]
  },
  {
   "cell_type": "code",
   "execution_count": 31,
   "id": "b2870731",
   "metadata": {},
   "outputs": [
    {
     "name": "stdout",
     "output_type": "stream",
     "text": [
      "300\n"
     ]
    }
   ],
   "source": [
    "def addition(a,b):\n",
    "    print(a+b)\n",
    "    \n",
    "addition(100,200)    "
   ]
  },
  {
   "cell_type": "code",
   "execution_count": 33,
   "id": "c1ecaf4e",
   "metadata": {},
   "outputs": [
    {
     "name": "stdout",
     "output_type": "stream",
     "text": [
      "30\n"
     ]
    }
   ],
   "source": [
    "def multiplication(x,y):\n",
    "    \n",
    "    print(x*y)\n",
    "multiplication(5,6)    "
   ]
  },
  {
   "cell_type": "code",
   "execution_count": 34,
   "id": "4e1e969a",
   "metadata": {},
   "outputs": [
    {
     "name": "stdout",
     "output_type": "stream",
     "text": [
      "28\n"
     ]
    }
   ],
   "source": [
    "multiplication(4,7)"
   ]
  },
  {
   "cell_type": "code",
   "execution_count": 37,
   "id": "52c5d5d6",
   "metadata": {},
   "outputs": [
    {
     "name": "stdout",
     "output_type": "stream",
     "text": [
      "30\n"
     ]
    }
   ],
   "source": [
    "def multiplication(x,y=10):\n",
    "    print(x*y)\n",
    "\n",
    "multiplication(3)    "
   ]
  },
  {
   "cell_type": "code",
   "execution_count": 38,
   "id": "5a74e7b2",
   "metadata": {},
   "outputs": [
    {
     "name": "stdout",
     "output_type": "stream",
     "text": [
      "90\n"
     ]
    }
   ],
   "source": [
    "multiplication(9)"
   ]
  },
  {
   "cell_type": "code",
   "execution_count": 39,
   "id": "556db8fc",
   "metadata": {},
   "outputs": [
    {
     "name": "stdout",
     "output_type": "stream",
     "text": [
      "150\n"
     ]
    }
   ],
   "source": [
    "# without function\n",
    "x=50\n",
    "y=100\n",
    "print(x+y)"
   ]
  },
  {
   "cell_type": "code",
   "execution_count": 40,
   "id": "a2a8782b",
   "metadata": {},
   "outputs": [
    {
     "name": "stdout",
     "output_type": "stream",
     "text": [
      "-50\n"
     ]
    }
   ],
   "source": [
    "x=50\n",
    "y=100\n",
    "print(x-y)"
   ]
  },
  {
   "cell_type": "code",
   "execution_count": 41,
   "id": "84a3bf2c",
   "metadata": {},
   "outputs": [
    {
     "name": "stdout",
     "output_type": "stream",
     "text": [
      "50\n"
     ]
    }
   ],
   "source": [
    "x=5\n",
    "y=10\n",
    "print(x*y)"
   ]
  },
  {
   "cell_type": "code",
   "execution_count": 42,
   "id": "4518a3aa",
   "metadata": {},
   "outputs": [
    {
     "name": "stdout",
     "output_type": "stream",
     "text": [
      "2\n",
      "4\n",
      "6\n",
      "8\n"
     ]
    }
   ],
   "source": [
    "for i in range(1,10):\n",
    "    if i%2==0:\n",
    "        print(i)"
   ]
  },
  {
   "cell_type": "code",
   "execution_count": 46,
   "id": "eacdc0d6",
   "metadata": {},
   "outputs": [
    {
     "name": "stdout",
     "output_type": "stream",
     "text": [
      "2\n",
      "4\n",
      "6\n",
      "8\n"
     ]
    }
   ],
   "source": [
    "# with function\n",
    "def even(a,b):\n",
    "    for i in range(a,b):\n",
    "        if i%2==0:\n",
    "            print(i)\n",
    "            \n",
    "even(1,10)            "
   ]
  },
  {
   "cell_type": "code",
   "execution_count": 49,
   "id": "62d02803",
   "metadata": {},
   "outputs": [
    {
     "name": "stdout",
     "output_type": "stream",
     "text": [
      "1\n",
      "3\n",
      "5\n",
      "7\n",
      "9\n"
     ]
    }
   ],
   "source": [
    "for i in range(1,10):\n",
    "    if i%2!=0:\n",
    "        print(i)\n",
    "        \n",
    "        "
   ]
  },
  {
   "cell_type": "code",
   "execution_count": 50,
   "id": "a6acdf58",
   "metadata": {},
   "outputs": [
    {
     "name": "stdout",
     "output_type": "stream",
     "text": [
      "1\n",
      "3\n",
      "5\n",
      "7\n",
      "9\n"
     ]
    }
   ],
   "source": [
    "def odd(a,b):\n",
    "    for i in range(a,b):\n",
    "        if i%2!=0:\n",
    "            print(i)\n",
    " \n",
    "odd(1,10)"
   ]
  },
  {
   "cell_type": "code",
   "execution_count": 51,
   "id": "60a6fce6",
   "metadata": {},
   "outputs": [
    {
     "name": "stdout",
     "output_type": "stream",
     "text": [
      "1\n",
      "3\n",
      "5\n",
      "7\n",
      "9\n",
      "11\n",
      "13\n",
      "15\n",
      "17\n",
      "19\n"
     ]
    }
   ],
   "source": [
    "for i in range(1,20):\n",
    "    if i%2!=0:\n",
    "        print(i)\n",
    "        \n",
    "        "
   ]
  },
  {
   "cell_type": "code",
   "execution_count": 2,
   "id": "65477e4e",
   "metadata": {},
   "outputs": [
    {
     "name": "stdout",
     "output_type": "stream",
     "text": [
      "i am going to Hyderabad\n",
      "i am learing Data Science course\n"
     ]
    }
   ],
   "source": [
    "def satish():\n",
    "    print('i am going to Hyderabad')\n",
    "    print('i am learing Data Science course')\n",
    "satish()    "
   ]
  },
  {
   "cell_type": "code",
   "execution_count": 3,
   "id": "80826af6",
   "metadata": {},
   "outputs": [
    {
     "name": "stdout",
     "output_type": "stream",
     "text": [
      "85\n"
     ]
    }
   ],
   "source": [
    "def addition(a,b):\n",
    "    print(a+b)\n",
    "    \n",
    "addition(25,60)    "
   ]
  },
  {
   "cell_type": "code",
   "execution_count": 4,
   "id": "93649780",
   "metadata": {},
   "outputs": [
    {
     "name": "stdout",
     "output_type": "stream",
     "text": [
      "90\n"
     ]
    }
   ],
   "source": [
    "addition(30,60)"
   ]
  },
  {
   "cell_type": "code",
   "execution_count": 6,
   "id": "c2143a62",
   "metadata": {},
   "outputs": [
    {
     "name": "stdout",
     "output_type": "stream",
     "text": [
      "-50\n"
     ]
    }
   ],
   "source": [
    "def substrication(x,y):\n",
    "    print(x-y)\n",
    "    \n",
    "    \n",
    "substrication(100,150)"
   ]
  },
  {
   "cell_type": "code",
   "execution_count": 7,
   "id": "f9a6be3b",
   "metadata": {},
   "outputs": [
    {
     "name": "stdout",
     "output_type": "stream",
     "text": [
      "220\n"
     ]
    }
   ],
   "source": [
    "substrication(250,30)"
   ]
  },
  {
   "cell_type": "code",
   "execution_count": 10,
   "id": "30458287",
   "metadata": {},
   "outputs": [
    {
     "name": "stdout",
     "output_type": "stream",
     "text": [
      "Data science\n"
     ]
    }
   ],
   "source": [
    "def vihara():\n",
    "    print('Data science')\n",
    "vihara() "
   ]
  },
  {
   "cell_type": "code",
   "execution_count": 11,
   "id": "fc78946b",
   "metadata": {},
   "outputs": [
    {
     "name": "stdout",
     "output_type": "stream",
     "text": [
      "90\n"
     ]
    }
   ],
   "source": [
    "def addition(a,b,c):\n",
    "    print(a+b+c)\n",
    "    \n",
    "addition(10,30,50)    "
   ]
  },
  {
   "cell_type": "code",
   "execution_count": 12,
   "id": "d99af1a7",
   "metadata": {},
   "outputs": [
    {
     "name": "stdout",
     "output_type": "stream",
     "text": [
      "150\n"
     ]
    }
   ],
   "source": [
    "addition(20,50,80)"
   ]
  },
  {
   "cell_type": "code",
   "execution_count": 14,
   "id": "d4656b1e",
   "metadata": {},
   "outputs": [
    {
     "name": "stdout",
     "output_type": "stream",
     "text": [
      "300\n"
     ]
    }
   ],
   "source": [
    "def substrication(a,b,c=500):\n",
    "       print(a-b-c)\n",
    "substrication(1000,200)   "
   ]
  },
  {
   "cell_type": "code",
   "execution_count": 15,
   "id": "fe41f84c",
   "metadata": {},
   "outputs": [
    {
     "name": "stdout",
     "output_type": "stream",
     "text": [
      "1500\n"
     ]
    }
   ],
   "source": [
    "# without function\n",
    "a=100\n",
    "b=500\n",
    "c=900\n",
    "print(a+b+c)"
   ]
  },
  {
   "cell_type": "code",
   "execution_count": 16,
   "id": "90bf5295",
   "metadata": {},
   "outputs": [
    {
     "name": "stdout",
     "output_type": "stream",
     "text": [
      "-1300\n"
     ]
    }
   ],
   "source": [
    "print(a-b-c)"
   ]
  },
  {
   "cell_type": "code",
   "execution_count": 17,
   "id": "67765d4c",
   "metadata": {},
   "outputs": [
    {
     "name": "stdout",
     "output_type": "stream",
     "text": [
      "12\n",
      "14\n",
      "16\n"
     ]
    }
   ],
   "source": [
    "for i in range(11,17):\n",
    "    if i%2==0:\n",
    "        print(i)"
   ]
  },
  {
   "cell_type": "code",
   "execution_count": 25,
   "id": "9cafc730",
   "metadata": {},
   "outputs": [
    {
     "name": "stdout",
     "output_type": "stream",
     "text": [
      "2\n",
      "4\n",
      "6\n",
      "8\n"
     ]
    }
   ],
   "source": [
    "def even(a,b):\n",
    "    for i in range(a,b):\n",
    "        if i%2==0:\n",
    "            print(i)\n",
    "even(1,10)            "
   ]
  },
  {
   "cell_type": "code",
   "execution_count": 20,
   "id": "fe8e1eb3",
   "metadata": {},
   "outputs": [
    {
     "name": "stdout",
     "output_type": "stream",
     "text": [
      "1\n",
      "3\n",
      "5\n",
      "7\n",
      "9\n"
     ]
    }
   ],
   "source": [
    "def odd(x,y):\n",
    "    for i in range(x,y):\n",
    "        if i%2!=0:\n",
    "            print(i)\n",
    "odd(1,10)            "
   ]
  },
  {
   "cell_type": "code",
   "execution_count": 21,
   "id": "521ceb07",
   "metadata": {},
   "outputs": [
    {
     "name": "stdout",
     "output_type": "stream",
     "text": [
      "1\n",
      "3\n",
      "5\n",
      "7\n",
      "9\n"
     ]
    }
   ],
   "source": [
    "# without function\n",
    "for i in range(1,10):\n",
    "    if i%2!=0:\n",
    "        print(i)"
   ]
  },
  {
   "cell_type": "code",
   "execution_count": null,
   "id": "bf1ad857",
   "metadata": {},
   "outputs": [],
   "source": [
    "# function syntax:-def <functionname>(parameters):\n",
    "#                          logical statement"
   ]
  },
  {
   "cell_type": "code",
   "execution_count": 26,
   "id": "896b3abd",
   "metadata": {},
   "outputs": [
    {
     "name": "stdout",
     "output_type": "stream",
     "text": [
      "500\n",
      "600\n"
     ]
    }
   ],
   "source": [
    "#Global Variable\n",
    "x=500\n",
    "def fun():\n",
    "    print(x+100)\n",
    "    \n",
    "print(x)\n",
    "fun()"
   ]
  },
  {
   "cell_type": "code",
   "execution_count": 27,
   "id": "cbe5ec1a",
   "metadata": {},
   "outputs": [
    {
     "name": "stdout",
     "output_type": "stream",
     "text": [
      "1000\n",
      "1100\n"
     ]
    }
   ],
   "source": [
    "a=1000\n",
    "def fun():\n",
    "    print(a+100)\n",
    "print(a)\n",
    "fun()\n"
   ]
  },
  {
   "cell_type": "code",
   "execution_count": 28,
   "id": "e1979d7e",
   "metadata": {},
   "outputs": [
    {
     "name": "stdout",
     "output_type": "stream",
     "text": [
      "1100\n"
     ]
    }
   ],
   "source": [
    "# local Variables\n",
    "def fun():\n",
    "    k=1000\n",
    "    print(k+100)\n",
    "fun()   "
   ]
  },
  {
   "cell_type": "code",
   "execution_count": 32,
   "id": "a31da71d",
   "metadata": {},
   "outputs": [
    {
     "name": "stdout",
     "output_type": "stream",
     "text": [
      "550\n"
     ]
    }
   ],
   "source": [
    "def fun():\n",
    "    a=250\n",
    "    print(a+300)\n",
    "fun()    "
   ]
  },
  {
   "cell_type": "code",
   "execution_count": 1,
   "id": "8ebb247b",
   "metadata": {},
   "outputs": [
    {
     "name": "stdout",
     "output_type": "stream",
     "text": [
      "i am going to hyderabad\n"
     ]
    }
   ],
   "source": [
    "def satish():\n",
    "    print('i am going to hyderabad')\n",
    "satish()"
   ]
  },
  {
   "cell_type": "code",
   "execution_count": 4,
   "id": "a3f55330",
   "metadata": {},
   "outputs": [
    {
     "name": "stdout",
     "output_type": "stream",
     "text": [
      "60\n"
     ]
    }
   ],
   "source": [
    "def addition(a,b):\n",
    "    print(a+b)\n",
    "    \n",
    "addition(20,40)    "
   ]
  },
  {
   "cell_type": "code",
   "execution_count": 5,
   "id": "c295a938",
   "metadata": {},
   "outputs": [
    {
     "name": "stdout",
     "output_type": "stream",
     "text": [
      "300\n"
     ]
    }
   ],
   "source": [
    "addition(100,200)"
   ]
  },
  {
   "cell_type": "code",
   "execution_count": 8,
   "id": "e7f35905",
   "metadata": {},
   "outputs": [
    {
     "name": "stdout",
     "output_type": "stream",
     "text": [
      "80\n"
     ]
    }
   ],
   "source": [
    "def substrication(x,y):\n",
    "    print(x-y)\n",
    "    \n",
    "    \n",
    "substrication(100,20)   "
   ]
  },
  {
   "cell_type": "code",
   "execution_count": 9,
   "id": "82562dce",
   "metadata": {},
   "outputs": [
    {
     "name": "stdout",
     "output_type": "stream",
     "text": [
      "60\n"
     ]
    }
   ],
   "source": [
    "substrication(100,40)"
   ]
  },
  {
   "cell_type": "code",
   "execution_count": 10,
   "id": "84650e20",
   "metadata": {},
   "outputs": [
    {
     "name": "stdout",
     "output_type": "stream",
     "text": [
      "1500\n"
     ]
    }
   ],
   "source": [
    "#without function\n",
    "a=1000\n",
    "b=500\n",
    "print(a+b)"
   ]
  },
  {
   "cell_type": "code",
   "execution_count": 11,
   "id": "b758ca40",
   "metadata": {},
   "outputs": [
    {
     "name": "stdout",
     "output_type": "stream",
     "text": [
      "2100\n"
     ]
    }
   ],
   "source": [
    "def addition(a,b=100):\n",
    "    print(a+b)\n",
    "    \n",
    "    \n",
    "addition(2000)    "
   ]
  },
  {
   "cell_type": "code",
   "execution_count": 26,
   "id": "ad9e2d79",
   "metadata": {},
   "outputs": [
    {
     "name": "stdout",
     "output_type": "stream",
     "text": [
      "2\n",
      "4\n",
      "6\n",
      "8\n"
     ]
    }
   ],
   "source": [
    "def even(a,b):\n",
    "    for i in range(a,b):\n",
    "        if i%2==0:\n",
    "            print(i)\n",
    "even(1,10)            "
   ]
  },
  {
   "cell_type": "code",
   "execution_count": 28,
   "id": "4d685f2e",
   "metadata": {},
   "outputs": [
    {
     "name": "stdout",
     "output_type": "stream",
     "text": [
      "1\n",
      "3\n",
      "5\n",
      "7\n",
      "9\n"
     ]
    }
   ],
   "source": [
    "def odd(a,b):\n",
    "    for i in range(a,b):\n",
    "        if i%2!=0:\n",
    "            print(i)\n",
    "odd(1,10)            "
   ]
  },
  {
   "cell_type": "code",
   "execution_count": 1,
   "id": "6817c14c",
   "metadata": {},
   "outputs": [
    {
     "name": "stdout",
     "output_type": "stream",
     "text": [
      "i am going to vihara tech\n"
     ]
    }
   ],
   "source": [
    "def sai():\n",
    "    print('i am going to vihara tech')\n",
    "    \n",
    "    \n",
    "sai()    \n",
    "    "
   ]
  },
  {
   "cell_type": "code",
   "execution_count": 2,
   "id": "a415d921",
   "metadata": {},
   "outputs": [
    {
     "name": "stdout",
     "output_type": "stream",
     "text": [
      "70\n"
     ]
    }
   ],
   "source": [
    "def addition(a,b):\n",
    "    print(a+b)\n",
    "    \n",
    "addition(20,50)    "
   ]
  },
  {
   "cell_type": "code",
   "execution_count": 4,
   "id": "54d374b7",
   "metadata": {},
   "outputs": [
    {
     "name": "stdout",
     "output_type": "stream",
     "text": [
      "100\n"
     ]
    }
   ],
   "source": [
    "addition(45,55)"
   ]
  },
  {
   "cell_type": "code",
   "execution_count": 5,
   "id": "5aa143d9",
   "metadata": {},
   "outputs": [
    {
     "name": "stdout",
     "output_type": "stream",
     "text": [
      "56\n"
     ]
    }
   ],
   "source": [
    "addition(23,33)"
   ]
  },
  {
   "cell_type": "code",
   "execution_count": 3,
   "id": "d0d9010f",
   "metadata": {},
   "outputs": [
    {
     "name": "stdout",
     "output_type": "stream",
     "text": [
      "500\n"
     ]
    }
   ],
   "source": [
    "def substrication(a,b):\n",
    "    print(a-b)\n",
    "    \n",
    "substrication(1000,500)    "
   ]
  },
  {
   "cell_type": "code",
   "execution_count": 6,
   "id": "ad192384",
   "metadata": {},
   "outputs": [
    {
     "name": "stdout",
     "output_type": "stream",
     "text": [
      "50\n"
     ]
    }
   ],
   "source": [
    "substrication(55,5)"
   ]
  },
  {
   "cell_type": "code",
   "execution_count": 7,
   "id": "05981ebe",
   "metadata": {},
   "outputs": [
    {
     "name": "stdout",
     "output_type": "stream",
     "text": [
      "60\n"
     ]
    }
   ],
   "source": [
    "substrication(100,40)"
   ]
  },
  {
   "cell_type": "code",
   "execution_count": 8,
   "id": "29b0c0f0",
   "metadata": {},
   "outputs": [
    {
     "name": "stdout",
     "output_type": "stream",
     "text": [
      "10\n"
     ]
    }
   ],
   "source": [
    "def multiplication(x,y):\n",
    "    print(x*y)\n",
    "    \n",
    "    \n",
    "multiplication(2,5)    "
   ]
  },
  {
   "cell_type": "code",
   "execution_count": 9,
   "id": "840d10fa",
   "metadata": {},
   "outputs": [
    {
     "name": "stdout",
     "output_type": "stream",
     "text": [
      "20\n"
     ]
    }
   ],
   "source": [
    "multiplication(4,5)"
   ]
  },
  {
   "cell_type": "code",
   "execution_count": 10,
   "id": "17652258",
   "metadata": {},
   "outputs": [
    {
     "name": "stdout",
     "output_type": "stream",
     "text": [
      "50\n"
     ]
    }
   ],
   "source": [
    "multiplication(10,5)"
   ]
  },
  {
   "cell_type": "code",
   "execution_count": 13,
   "id": "158a0e5f",
   "metadata": {},
   "outputs": [
    {
     "name": "stdout",
     "output_type": "stream",
     "text": [
      "110\n"
     ]
    }
   ],
   "source": [
    "def addition(a,b=10):\n",
    "    print(a+b)\n",
    "    \n",
    "    \n",
    "addition(100)    "
   ]
  },
  {
   "cell_type": "code",
   "execution_count": 14,
   "id": "2fd3320d",
   "metadata": {},
   "outputs": [
    {
     "name": "stdout",
     "output_type": "stream",
     "text": [
      "35\n"
     ]
    }
   ],
   "source": [
    "def multiplication(s,e=7):\n",
    "    print(s*e)\n",
    "    \n",
    "    \n",
    "multiplication(5)    "
   ]
  },
  {
   "cell_type": "code",
   "execution_count": 15,
   "id": "db0bb284",
   "metadata": {},
   "outputs": [
    {
     "name": "stdout",
     "output_type": "stream",
     "text": [
      "120\n"
     ]
    }
   ],
   "source": [
    "# normal function\n",
    "def fun(s,e):\n",
    "    print(s+e)\n",
    "    \n",
    "fun(55,65)    "
   ]
  },
  {
   "cell_type": "code",
   "execution_count": 16,
   "id": "e109bb3a",
   "metadata": {},
   "outputs": [],
   "source": [
    "#without function lambda function  is know as ananyomus function\n",
    "# using the variable we can use the lambda function"
   ]
  },
  {
   "cell_type": "code",
   "execution_count": 22,
   "id": "55098a6f",
   "metadata": {},
   "outputs": [
    {
     "name": "stdout",
     "output_type": "stream",
     "text": [
      "50\n"
     ]
    }
   ],
   "source": [
    "c=lambda s,e:s+e\n",
    "    \n",
    "print(c(10,40))\n",
    "    \n",
    "    "
   ]
  },
  {
   "cell_type": "code",
   "execution_count": 23,
   "id": "e569fc38",
   "metadata": {},
   "outputs": [
    {
     "name": "stdout",
     "output_type": "stream",
     "text": [
      "30\n"
     ]
    }
   ],
   "source": [
    "a=lambda x,y:x*y\n",
    "\n",
    "print(a(5,6))"
   ]
  },
  {
   "cell_type": "code",
   "execution_count": 24,
   "id": "82e10e14",
   "metadata": {},
   "outputs": [
    {
     "name": "stdout",
     "output_type": "stream",
     "text": [
      "5 * 1 = 5\n",
      "5 * 2 = 10\n",
      "5 * 3 = 15\n",
      "5 * 4 = 20\n",
      "5 * 5 = 25\n",
      "5 * 6 = 30\n",
      "5 * 7 = 35\n",
      "5 * 8 = 40\n",
      "5 * 9 = 45\n"
     ]
    }
   ],
   "source": [
    "# normal function using 2 table\n",
    "a=5\n",
    "\n",
    "for i in range(1,10):\n",
    "    print(a,'*',i,'=',a*i)\n",
    "\n"
   ]
  },
  {
   "cell_type": "code",
   "execution_count": 25,
   "id": "704fafce",
   "metadata": {},
   "outputs": [
    {
     "name": "stdout",
     "output_type": "stream",
     "text": [
      "10 * 1 = 10\n",
      "10 * 2 = 20\n",
      "10 * 3 = 30\n",
      "10 * 4 = 40\n",
      "10 * 5 = 50\n",
      "10 * 6 = 60\n",
      "10 * 7 = 70\n",
      "10 * 8 = 80\n",
      "10 * 9 = 90\n",
      "10 * 10 = 100\n"
     ]
    }
   ],
   "source": [
    "a=10\n",
    "\n",
    "for i in range(1,11):\n",
    "    print(a,'*',i,'=',a*i)"
   ]
  },
  {
   "cell_type": "code",
   "execution_count": 27,
   "id": "6155ca99",
   "metadata": {},
   "outputs": [
    {
     "name": "stdout",
     "output_type": "stream",
     "text": [
      "7 * 1 = 7\n",
      "7 * 2 = 14\n",
      "7 * 3 = 21\n",
      "7 * 4 = 28\n",
      "7 * 5 = 35\n",
      "7 * 6 = 42\n",
      "7 * 7 = 49\n",
      "7 * 8 = 56\n",
      "7 * 9 = 63\n",
      "7 * 10 = 70\n"
     ]
    }
   ],
   "source": [
    "# lambda function\n",
    "\n",
    "a=7\n",
    "c=lambda x,y:x*y\n",
    "\n",
    "for i in range(1,11):\n",
    "    print(a,'*',i,'=',c(a,i))"
   ]
  },
  {
   "cell_type": "code",
   "execution_count": 32,
   "id": "2c3b31db",
   "metadata": {},
   "outputs": [
    {
     "name": "stdout",
     "output_type": "stream",
     "text": [
      "6 * 1 = 6\n",
      "6 * 2 = 12\n",
      "6 * 3 = 18\n",
      "6 * 4 = 24\n",
      "6 * 5 = 30\n",
      "6 * 6 = 36\n",
      "6 * 7 = 42\n",
      "6 * 8 = 48\n",
      "6 * 9 = 54\n",
      "6 * 10 = 60\n"
     ]
    }
   ],
   "source": [
    "a=6\n",
    "\n",
    "c=lambda s,e:s*e\n",
    "\n",
    "for i in range(1,11):\n",
    "    \n",
    "    print(a,'*',i,'=',c(a,i))\n",
    "    "
   ]
  },
  {
   "cell_type": "code",
   "execution_count": 33,
   "id": "95e3fc62",
   "metadata": {},
   "outputs": [
    {
     "name": "stdout",
     "output_type": "stream",
     "text": [
      "9 * 1 = 9\n",
      "9 * 2 = 18\n",
      "9 * 3 = 27\n",
      "9 * 4 = 36\n",
      "9 * 5 = 45\n",
      "9 * 6 = 54\n",
      "9 * 7 = 63\n",
      "9 * 8 = 72\n",
      "9 * 9 = 81\n",
      "9 * 10 = 90\n"
     ]
    }
   ],
   "source": [
    "a=9\n",
    "j=lambda d,e:d*e\n",
    "\n",
    "for i in range(1,11):\n",
    "    print(a,'*',i,'=',j(a,i))\n",
    "    "
   ]
  },
  {
   "cell_type": "code",
   "execution_count": 34,
   "id": "93924975",
   "metadata": {},
   "outputs": [
    {
     "name": "stdout",
     "output_type": "stream",
     "text": [
      "30\n"
     ]
    }
   ],
   "source": [
    "c=lambda s,e:s+e\n",
    "\n",
    "print(c(10,20))"
   ]
  },
  {
   "cell_type": "code",
   "execution_count": 35,
   "id": "a0e49fdd",
   "metadata": {},
   "outputs": [
    {
     "name": "stdout",
     "output_type": "stream",
     "text": [
      "505\n"
     ]
    }
   ],
   "source": [
    "c=lambda x,y:x-y\n",
    "\n",
    "print(c(550,45))"
   ]
  },
  {
   "cell_type": "code",
   "execution_count": 36,
   "id": "1896d38b",
   "metadata": {},
   "outputs": [
    {
     "name": "stdout",
     "output_type": "stream",
     "text": [
      "odd number 1\n",
      "even number 2\n",
      "odd number 3\n",
      "even number 4\n",
      "odd number 5\n",
      "even number 6\n",
      "odd number 7\n",
      "even number 8\n",
      "odd number 9\n",
      "even number 10\n",
      "odd number 11\n",
      "even number 12\n",
      "odd number 13\n",
      "even number 14\n",
      "odd number 15\n",
      "even number 16\n",
      "odd number 17\n",
      "even number 18\n",
      "odd number 19\n"
     ]
    }
   ],
   "source": [
    "for i in range(1,20):\n",
    "    if i%2==0:\n",
    "        print('even number',i)\n",
    "    else:\n",
    "        print('odd number',i)"
   ]
  },
  {
   "cell_type": "code",
   "execution_count": 39,
   "id": "86028a41",
   "metadata": {},
   "outputs": [
    {
     "name": "stdout",
     "output_type": "stream",
     "text": [
      "odd number 1\n",
      "even number 2\n",
      "odd number 3\n",
      "even number 4\n",
      "odd number 5\n",
      "even number 6\n",
      "odd number 7\n",
      "even number 8\n",
      "odd number 9\n",
      "even number 10\n",
      "odd number 11\n",
      "even number 12\n",
      "odd number 13\n",
      "even number 14\n",
      "odd number 15\n",
      "even number 16\n",
      "odd number 17\n",
      "even number 18\n",
      "odd number 19\n"
     ]
    }
   ],
   "source": [
    "c=lambda x:x%2==0\n",
    "for i in range(1,20):\n",
    "    if c(i)==True:\n",
    "        print('even number',i)\n",
    "    else:\n",
    "        print('odd number',i)"
   ]
  },
  {
   "cell_type": "code",
   "execution_count": 43,
   "id": "e607e064",
   "metadata": {},
   "outputs": [
    {
     "name": "stdout",
     "output_type": "stream",
     "text": [
      "even number 2\n",
      "even number 4\n",
      "even number 6\n",
      "even number 8\n"
     ]
    }
   ],
   "source": [
    "c=lambda x:x%2==0\n",
    "for i in range(1,10):\n",
    "    if c(i)==True:\n",
    "        print('even number',i)"
   ]
  },
  {
   "cell_type": "code",
   "execution_count": 46,
   "id": "eea0a836",
   "metadata": {},
   "outputs": [
    {
     "name": "stdout",
     "output_type": "stream",
     "text": [
      "odd number 1\n",
      "odd number 3\n",
      "odd number 5\n",
      "odd number 7\n",
      "odd number 9\n"
     ]
    }
   ],
   "source": [
    "c=lambda x:x%2!=0\n",
    "for i in range(1,10):\n",
    "    if c(i)==True:\n",
    "        print('odd number',i)"
   ]
  },
  {
   "cell_type": "code",
   "execution_count": 2,
   "id": "7db05195",
   "metadata": {},
   "outputs": [
    {
     "name": "stdout",
     "output_type": "stream",
     "text": [
      "50\n"
     ]
    }
   ],
   "source": [
    "#normal function\n",
    "def satish(a,b):\n",
    "    print(a+b)\n",
    "    \n",
    "    \n",
    "satish(20,30)    "
   ]
  },
  {
   "cell_type": "code",
   "execution_count": 5,
   "id": "162ad19b",
   "metadata": {},
   "outputs": [
    {
     "name": "stdout",
     "output_type": "stream",
     "text": [
      "50\n"
     ]
    }
   ],
   "source": [
    "#lambda function\n",
    "c=lambda a,b:a+b\n",
    "print(c(20,30))"
   ]
  },
  {
   "cell_type": "code",
   "execution_count": 6,
   "id": "b85d1077",
   "metadata": {},
   "outputs": [
    {
     "name": "stdout",
     "output_type": "stream",
     "text": [
      "4 * 1 = 4\n",
      "4 * 2 = 8\n",
      "4 * 3 = 12\n",
      "4 * 4 = 16\n",
      "4 * 5 = 20\n",
      "4 * 6 = 24\n",
      "4 * 7 = 28\n",
      "4 * 8 = 32\n",
      "4 * 9 = 36\n",
      "4 * 10 = 40\n"
     ]
    }
   ],
   "source": [
    "# print 4 table \n",
    "a=4\n",
    "for i in range(1,11):\n",
    "    print(a,'*',i,'=',a*i)"
   ]
  },
  {
   "cell_type": "code",
   "execution_count": 7,
   "id": "609d4788",
   "metadata": {},
   "outputs": [
    {
     "name": "stdout",
     "output_type": "stream",
     "text": [
      "10 * 1 = 10\n",
      "10 * 2 = 20\n",
      "10 * 3 = 30\n",
      "10 * 4 = 40\n",
      "10 * 5 = 50\n",
      "10 * 6 = 60\n",
      "10 * 7 = 70\n",
      "10 * 8 = 80\n",
      "10 * 9 = 90\n",
      "10 * 10 = 100\n"
     ]
    }
   ],
   "source": [
    "x=10\n",
    "for i in range(1,11):\n",
    "    print(x,'*',i,'=',x*i)"
   ]
  },
  {
   "cell_type": "code",
   "execution_count": 11,
   "id": "4c1cedcf",
   "metadata": {},
   "outputs": [
    {
     "name": "stdout",
     "output_type": "stream",
     "text": [
      "2 * 1 = 2\n",
      "2 * 2 = 4\n",
      "2 * 3 = 6\n",
      "2 * 4 = 8\n",
      "2 * 5 = 10\n",
      "2 * 6 = 12\n",
      "2 * 7 = 14\n",
      "2 * 8 = 16\n",
      "2 * 9 = 18\n",
      "2 * 10 = 20\n"
     ]
    }
   ],
   "source": [
    "a=2\n",
    "c=lambda s,e:s*e\n",
    "\n",
    "for i in range(1,11):\n",
    "    print(a,'*',i,'=',c(a,i))"
   ]
  },
  {
   "cell_type": "code",
   "execution_count": 12,
   "id": "f8e8bf1a",
   "metadata": {},
   "outputs": [
    {
     "name": "stdout",
     "output_type": "stream",
     "text": [
      "15 * 1 = 15\n",
      "15 * 2 = 30\n",
      "15 * 3 = 45\n",
      "15 * 4 = 60\n",
      "15 * 5 = 75\n",
      "15 * 6 = 90\n",
      "15 * 7 = 105\n",
      "15 * 8 = 120\n",
      "15 * 9 = 135\n",
      "15 * 10 = 150\n"
     ]
    }
   ],
   "source": [
    "a=15\n",
    "c=lambda t,i:t*i\n",
    "\n",
    "for i in range(1,11):\n",
    "    print(a,'*',i,'=',c(a,i))"
   ]
  },
  {
   "cell_type": "code",
   "execution_count": 17,
   "id": "5edcefd2",
   "metadata": {},
   "outputs": [
    {
     "name": "stdout",
     "output_type": "stream",
     "text": [
      "odd number 1\n",
      "even number 2\n",
      "odd number 3\n",
      "even number 4\n",
      "odd number 5\n",
      "even number 6\n",
      "odd number 7\n",
      "even number 8\n",
      "odd number 9\n",
      "even number 10\n",
      "odd number 11\n",
      "even number 12\n",
      "odd number 13\n",
      "even number 14\n",
      "odd number 15\n",
      "even number 16\n",
      "odd number 17\n",
      "even number 18\n",
      "odd number 19\n"
     ]
    }
   ],
   "source": [
    "# print 1 to 20 even numbers and odd numbers\n",
    "\n",
    "def evennumbers(t,j):\n",
    "    for i in range(t,j):\n",
    "        if i%2==0:\n",
    "            print('even number',i)\n",
    "        else:\n",
    "            print('odd number',i)\n",
    "evennumbers(1,20)           "
   ]
  },
  {
   "cell_type": "code",
   "execution_count": 18,
   "id": "426e0b11",
   "metadata": {},
   "outputs": [
    {
     "name": "stdout",
     "output_type": "stream",
     "text": [
      "odd number 1\n",
      "even number 2\n",
      "odd number 3\n",
      "even number 4\n",
      "odd number 5\n",
      "even number 6\n",
      "odd number 7\n",
      "even number 8\n",
      "odd number 9\n",
      "even number 10\n",
      "odd number 11\n",
      "even number 12\n",
      "odd number 13\n",
      "even number 14\n",
      "odd number 15\n",
      "even number 16\n",
      "odd number 17\n",
      "even number 18\n",
      "odd number 19\n"
     ]
    }
   ],
   "source": [
    "c=lambda x:x%2==0\n",
    "for i in range(1,20):\n",
    "    if c(i)==True:\n",
    "        print('even number',i)\n",
    "    else:\n",
    "        print('odd number',i)"
   ]
  },
  {
   "cell_type": "code",
   "execution_count": 20,
   "id": "8ddcc522",
   "metadata": {},
   "outputs": [
    {
     "name": "stdout",
     "output_type": "stream",
     "text": [
      "22\n",
      "24\n",
      "26\n",
      "28\n",
      "30\n",
      "32\n",
      "34\n",
      "36\n",
      "38\n",
      "40\n"
     ]
    }
   ],
   "source": [
    "def evens(a,b):\n",
    "    for i in range(a,b):\n",
    "        if i%2==0:\n",
    "            print(i)\n",
    "evens(21,41)            "
   ]
  },
  {
   "cell_type": "code",
   "execution_count": 21,
   "id": "b903082e",
   "metadata": {},
   "outputs": [
    {
     "name": "stdout",
     "output_type": "stream",
     "text": [
      "22\n",
      "24\n",
      "26\n",
      "28\n",
      "30\n",
      "32\n",
      "34\n",
      "36\n",
      "38\n",
      "40\n"
     ]
    }
   ],
   "source": [
    "c=lambda a:a%2==0\n",
    "\n",
    "for i in range(21,41):\n",
    "    if c(i)==True:\n",
    "        print(i)"
   ]
  },
  {
   "cell_type": "code",
   "execution_count": 29,
   "id": "bbd63516",
   "metadata": {},
   "outputs": [
    {
     "name": "stdout",
     "output_type": "stream",
     "text": [
      "21\n",
      "23\n",
      "25\n",
      "27\n",
      "29\n",
      "31\n",
      "33\n",
      "35\n",
      "37\n",
      "39\n"
     ]
    }
   ],
   "source": [
    "c=lambda x:x%2!=0\n",
    "for i in range(21,41):\n",
    "    if c(i)==True:\n",
    "        print(i)"
   ]
  },
  {
   "cell_type": "code",
   "execution_count": 30,
   "id": "a8ad7fb2",
   "metadata": {},
   "outputs": [
    {
     "name": "stdout",
     "output_type": "stream",
     "text": [
      "75\n"
     ]
    }
   ],
   "source": [
    "def add(y,z):\n",
    "    print(y+z)\n",
    "    \n",
    "    \n",
    "add(30,45)    "
   ]
  },
  {
   "cell_type": "code",
   "execution_count": 31,
   "id": "61f94a81",
   "metadata": {},
   "outputs": [
    {
     "name": "stdout",
     "output_type": "stream",
     "text": [
      "75\n"
     ]
    }
   ],
   "source": [
    "c=lambda y,z:y+z\n",
    "print(c(30,45))"
   ]
  },
  {
   "cell_type": "code",
   "execution_count": 36,
   "id": "2b6dc9bd",
   "metadata": {},
   "outputs": [
    {
     "name": "stdout",
     "output_type": "stream",
     "text": [
      "105\n"
     ]
    }
   ],
   "source": [
    "def sub(s,d):\n",
    "    print(s-d)\n",
    "    \n",
    "sub(150,45)    "
   ]
  },
  {
   "cell_type": "code",
   "execution_count": 38,
   "id": "54123c29",
   "metadata": {},
   "outputs": [
    {
     "name": "stdout",
     "output_type": "stream",
     "text": [
      "105\n"
     ]
    }
   ],
   "source": [
    "a=lambda s,d:s-d\n",
    "print(a(150,45))"
   ]
  },
  {
   "cell_type": "code",
   "execution_count": 39,
   "id": "90e9cab8",
   "metadata": {},
   "outputs": [
    {
     "name": "stdout",
     "output_type": "stream",
     "text": [
      "even number 32\n",
      "even number 34\n",
      "even number 36\n",
      "even number 38\n",
      "even number 40\n"
     ]
    }
   ],
   "source": [
    "def fun(w,e):\n",
    "    for i in range(w,e):\n",
    "        if i%2==0:\n",
    "            print('even number',i)\n",
    "fun(31,41)            \n",
    "            "
   ]
  },
  {
   "cell_type": "code",
   "execution_count": 40,
   "id": "faf76b1b",
   "metadata": {},
   "outputs": [
    {
     "name": "stdout",
     "output_type": "stream",
     "text": [
      "even number 32\n",
      "even number 34\n",
      "even number 36\n",
      "even number 38\n",
      "even number 40\n"
     ]
    }
   ],
   "source": [
    "c=lambda w:w%2==0\n",
    "for i in range(31,41):\n",
    "    if c(i)==True:\n",
    "        print('even number',i)"
   ]
  },
  {
   "cell_type": "code",
   "execution_count": 42,
   "id": "18eb3e2c",
   "metadata": {},
   "outputs": [
    {
     "name": "stdout",
     "output_type": "stream",
     "text": [
      "even number 31\n",
      "even number 33\n",
      "even number 35\n",
      "even number 37\n",
      "even number 39\n"
     ]
    }
   ],
   "source": [
    "def odd(R,S):\n",
    "    for i in range(R,S):\n",
    "        if i%2!=0:\n",
    "            print('even number',i)\n",
    "odd(31,41)            "
   ]
  },
  {
   "cell_type": "code",
   "execution_count": 46,
   "id": "d84ad690",
   "metadata": {},
   "outputs": [
    {
     "name": "stdout",
     "output_type": "stream",
     "text": [
      "even number 31\n",
      "even number 33\n",
      "even number 35\n",
      "even number 37\n",
      "even number 39\n"
     ]
    }
   ],
   "source": [
    "c=lambda r:r%2!=0\n",
    "for i in range(31,41):\n",
    "    if i%2==True:\n",
    "        print('even number',i)"
   ]
  },
  {
   "cell_type": "code",
   "execution_count": 47,
   "id": "a0d55e19",
   "metadata": {},
   "outputs": [
    {
     "name": "stdout",
     "output_type": "stream",
     "text": [
      "14 * 1 = 14\n",
      "14 * 2 = 28\n",
      "14 * 3 = 42\n",
      "14 * 4 = 56\n",
      "14 * 5 = 70\n",
      "14 * 6 = 84\n",
      "14 * 7 = 98\n",
      "14 * 8 = 112\n",
      "14 * 9 = 126\n",
      "14 * 10 = 140\n"
     ]
    }
   ],
   "source": [
    "x=14\n",
    "for i in range(1,11):\n",
    "    print(x,'*',i,'=',x*i)"
   ]
  },
  {
   "cell_type": "code",
   "execution_count": 49,
   "id": "d0252caf",
   "metadata": {},
   "outputs": [
    {
     "name": "stdout",
     "output_type": "stream",
     "text": [
      "14 * 1 = 14\n",
      "14 * 2 = 28\n",
      "14 * 3 = 42\n",
      "14 * 4 = 56\n",
      "14 * 5 = 70\n",
      "14 * 6 = 84\n",
      "14 * 7 = 98\n",
      "14 * 8 = 112\n",
      "14 * 9 = 126\n",
      "14 * 10 = 140\n"
     ]
    }
   ],
   "source": [
    "x=14\n",
    "c=lambda a,b:a*b\n",
    "\n",
    "for i in range(1,11):\n",
    "    print(x,'*',i,'=',c(x,i))"
   ]
  },
  {
   "cell_type": "code",
   "execution_count": 53,
   "id": "89463df9",
   "metadata": {},
   "outputs": [
    {
     "name": "stdout",
     "output_type": "stream",
     "text": [
      "[None, 'even', None, 'even', None, 'even', None, 'even', None, 'even']\n"
     ]
    }
   ],
   "source": [
    "# Map Function : map functions are used to reduce the complexity : map will take care of for loop:\n",
    "# map Function syntax : map(<function_name> , <values>)\n",
    "def satish(a):\n",
    "    if a%2==0:\n",
    "        return 'even'\n",
    "    \n",
    "x=map(satish,[31,32,33,34,35,36,37,38,39,40])\n",
    "print(list(x))"
   ]
  },
  {
   "cell_type": "code",
   "execution_count": 58,
   "id": "c1ffc4b2",
   "metadata": {},
   "outputs": [
    {
     "name": "stdout",
     "output_type": "stream",
     "text": [
      "['odd', None, 'odd', None, 'odd', None, 'odd', None, 'odd', None]\n"
     ]
    }
   ],
   "source": [
    "def oddnumbers(x):\n",
    "    if x%2!=0:\n",
    "        return 'odd'\n",
    "    \n",
    "y=map(oddnumbers,[31,32,33,34,35,36,37,38,39,40])\n",
    "print(list(y))"
   ]
  },
  {
   "cell_type": "code",
   "execution_count": 60,
   "id": "6dc23e80",
   "metadata": {},
   "outputs": [
    {
     "name": "stdout",
     "output_type": "stream",
     "text": [
      "[32, 34, 36, 38, 40]\n"
     ]
    }
   ],
   "source": [
    "# filter -> map function if not satifies it will print flase and if satisfies will print true\n",
    "# filer means if its satisfies then only it will print\n",
    "\n",
    "def satish(a):\n",
    "    if a%2==0:\n",
    "        return 'even'\n",
    "    \n",
    "    \n",
    "x=filter(satish,[31,32,33,34,35,36,37,38,39,40])\n",
    "print(list(x))"
   ]
  },
  {
   "cell_type": "code",
   "execution_count": 61,
   "id": "2407770e",
   "metadata": {},
   "outputs": [
    {
     "name": "stdout",
     "output_type": "stream",
     "text": [
      "[32, 34, 36, 38, 40]\n"
     ]
    }
   ],
   "source": [
    "x=filter(lambda x:x%2==0,[31,32,33,34,35,36,37,38,39,40])\n",
    "print(list(x))"
   ]
  },
  {
   "cell_type": "code",
   "execution_count": 62,
   "id": "52b4420f",
   "metadata": {},
   "outputs": [
    {
     "name": "stdout",
     "output_type": "stream",
     "text": [
      "[False, True, False, True, False, True, False, True, False, True]\n"
     ]
    }
   ],
   "source": [
    "y=map(lambda x:x%2==0,[1,2,3,4,5,6,7,8,9,10])\n",
    "print(list(y))"
   ]
  },
  {
   "cell_type": "code",
   "execution_count": 63,
   "id": "661954a7",
   "metadata": {},
   "outputs": [],
   "source": [
    "# reduce : reduce works with 2 ourcomes:\n",
    "\n",
    "\n",
    "from functools import reduce"
   ]
  },
  {
   "cell_type": "code",
   "execution_count": 64,
   "id": "6ea42db2",
   "metadata": {},
   "outputs": [
    {
     "data": {
      "text/plain": [
       "100"
      ]
     },
     "execution_count": 64,
     "metadata": {},
     "output_type": "execute_result"
    }
   ],
   "source": [
    "reduce(lambda a,b:a+b,[10,20,30,40])"
   ]
  },
  {
   "cell_type": "code",
   "execution_count": 2,
   "id": "e5ba4858",
   "metadata": {},
   "outputs": [
    {
     "name": "stdout",
     "output_type": "stream",
     "text": [
      "80\n"
     ]
    }
   ],
   "source": [
    "def tech(a,s):\n",
    "        print(a+s)\n",
    "        \n",
    "tech(25,55)        "
   ]
  },
  {
   "cell_type": "code",
   "execution_count": 4,
   "id": "c65222f3",
   "metadata": {},
   "outputs": [
    {
     "name": "stdout",
     "output_type": "stream",
     "text": [
      "80\n"
     ]
    }
   ],
   "source": [
    "c=lambda a,s:a+s\n",
    "print(c(25,55))"
   ]
  },
  {
   "cell_type": "code",
   "execution_count": 10,
   "id": "01fe9673",
   "metadata": {},
   "outputs": [
    {
     "name": "stdout",
     "output_type": "stream",
     "text": [
      "1\n",
      "2\n",
      "3\n",
      "4\n",
      "5\n",
      "[None, None, None, None, None]\n"
     ]
    }
   ],
   "source": [
    "def tech(s):\n",
    "    print(s)\n",
    "a=map(tech,[1,2,3,4,5])\n",
    "print(list(a))"
   ]
  },
  {
   "cell_type": "code",
   "execution_count": 12,
   "id": "17412ecd",
   "metadata": {},
   "outputs": [
    {
     "name": "stdout",
     "output_type": "stream",
     "text": [
      "60\n"
     ]
    }
   ],
   "source": [
    "#normal function\n",
    "def addition(a,w):\n",
    "    print(a+w)\n",
    "    \n",
    "addition(25,35)    "
   ]
  },
  {
   "cell_type": "code",
   "execution_count": 13,
   "id": "58aa3f47",
   "metadata": {},
   "outputs": [
    {
     "name": "stdout",
     "output_type": "stream",
     "text": [
      "60\n"
     ]
    }
   ],
   "source": [
    "# lambda function\n",
    "c=lambda a,w:a+w\n",
    "print(c(25,35))"
   ]
  },
  {
   "cell_type": "code",
   "execution_count": 14,
   "id": "17606601",
   "metadata": {},
   "outputs": [
    {
     "name": "stdout",
     "output_type": "stream",
     "text": [
      "even number 12\n",
      "even number 14\n",
      "even number 16\n",
      "even number 18\n",
      "even number 20\n"
     ]
    }
   ],
   "source": [
    "# norma function,lambda function,map\n",
    "def even(a,y):\n",
    "    for i in range(a,y):\n",
    "        if i%2==0:\n",
    "            print('even number',i)\n",
    "even(11,21)            "
   ]
  },
  {
   "cell_type": "code",
   "execution_count": 15,
   "id": "ac370138",
   "metadata": {},
   "outputs": [
    {
     "name": "stdout",
     "output_type": "stream",
     "text": [
      "even number 12\n",
      "even number 14\n",
      "even number 16\n",
      "even number 18\n",
      "even number 20\n"
     ]
    }
   ],
   "source": [
    "c=lambda a:a%2==0\n",
    "for i in range(11,21):\n",
    "    if i%2==0:\n",
    "        print('even number',i)"
   ]
  },
  {
   "cell_type": "code",
   "execution_count": 16,
   "id": "ed7bbba2",
   "metadata": {},
   "outputs": [
    {
     "name": "stdout",
     "output_type": "stream",
     "text": [
      "[False, True, False, True, False, True, False, True, False, True, False]\n"
     ]
    }
   ],
   "source": [
    "a=map(lambda a:a%2==0,[11,12,13,14,15,16,17,18,19,20,21])\n",
    "print(list(a))"
   ]
  },
  {
   "cell_type": "code",
   "execution_count": 18,
   "id": "205826f7",
   "metadata": {},
   "outputs": [
    {
     "name": "stdout",
     "output_type": "stream",
     "text": [
      "[12, 14, 16, 18, 20]\n"
     ]
    }
   ],
   "source": [
    "a=filter(lambda a:a%2==0,[11,12,13,14,15,16,17,18,19,20,21])\n",
    "print(list(a))"
   ]
  },
  {
   "cell_type": "code",
   "execution_count": 19,
   "id": "440b48b2",
   "metadata": {},
   "outputs": [],
   "source": [
    "from functools import reduce"
   ]
  },
  {
   "cell_type": "code",
   "execution_count": 20,
   "id": "ceefc905",
   "metadata": {},
   "outputs": [
    {
     "data": {
      "text/plain": [
       "50"
      ]
     },
     "execution_count": 20,
     "metadata": {},
     "output_type": "execute_result"
    }
   ],
   "source": [
    "reduce(lambda a,b:a+b,[11,12,13,14])      "
   ]
  },
  {
   "cell_type": "code",
   "execution_count": 21,
   "id": "2b96ad18",
   "metadata": {},
   "outputs": [
    {
     "data": {
      "text/plain": [
       "140"
      ]
     },
     "execution_count": 21,
     "metadata": {},
     "output_type": "execute_result"
    }
   ],
   "source": [
    "reduce(lambda x,y:x+y,[20,30,40,50])"
   ]
  },
  {
   "cell_type": "code",
   "execution_count": 33,
   "id": "6e778f60",
   "metadata": {},
   "outputs": [
    {
     "data": {
      "text/plain": [
       "55"
      ]
     },
     "execution_count": 33,
     "metadata": {},
     "output_type": "execute_result"
    }
   ],
   "source": [
    "reduce(lambda x,y:x+y,[1,2,3,4,5,6,7,8,9,10])\n"
   ]
  },
  {
   "cell_type": "code",
   "execution_count": 38,
   "id": "20a59790",
   "metadata": {},
   "outputs": [
    {
     "name": "stdout",
     "output_type": "stream",
     "text": [
      "[4, 6, 8, 10, 12]\n"
     ]
    }
   ],
   "source": [
    "# Filter with Map\n",
    "z=filter(lambda x:x%2==0,map(lambda x:x+2,[1,2,3,4,5,6,7,8,9,10]))\n",
    "print(list(z))"
   ]
  },
  {
   "cell_type": "code",
   "execution_count": 41,
   "id": "ac256680",
   "metadata": {},
   "outputs": [
    {
     "name": "stdout",
     "output_type": "stream",
     "text": [
      "[4, 6, 8, 10, 12]\n"
     ]
    }
   ],
   "source": [
    "s=map(lambda x:x+2,filter(lambda x:x%2==0,[1,2,3,4,5,6,7,8,9,10]))\n",
    "print(list(s))"
   ]
  },
  {
   "cell_type": "code",
   "execution_count": 55,
   "id": "f7c52087",
   "metadata": {},
   "outputs": [
    {
     "name": "stdout",
     "output_type": "stream",
     "text": [
      "75\n"
     ]
    }
   ],
   "source": [
    "# reduce with map and filter:\n",
    "q=reduce(lambda s,a:s+a,map(lambda s:s+2,[1,2,3,4,5,6,7,8,9,10]))\n",
    "print((q))\n"
   ]
  },
  {
   "cell_type": "code",
   "execution_count": 56,
   "id": "31d36d48",
   "metadata": {},
   "outputs": [
    {
     "name": "stdout",
     "output_type": "stream",
     "text": [
      "30\n"
     ]
    }
   ],
   "source": [
    "q=reduce(lambda s,a:s+a,filter(lambda s:s%2==0,[1,2,3,4,5,6,7,8,9,10]))\n",
    "print((q))"
   ]
  },
  {
   "cell_type": "code",
   "execution_count": null,
   "id": "93aef86d",
   "metadata": {},
   "outputs": [],
   "source": [
    "x=14\n",
    "c=lambda a,b:a*b\n",
    "\n",
    "for i in range(1,11):\n",
    "    print(x,'*',i,'=',c(x,i))"
   ]
  },
  {
   "cell_type": "code",
   "execution_count": 58,
   "id": "d168ac93",
   "metadata": {},
   "outputs": [
    {
     "name": "stdout",
     "output_type": "stream",
     "text": [
      "7 * 1 = 7\n",
      "7 * 2 = 14\n",
      "7 * 3 = 21\n",
      "7 * 4 = 28\n",
      "7 * 5 = 35\n",
      "7 * 6 = 42\n",
      "7 * 7 = 49\n",
      "7 * 8 = 56\n",
      "7 * 9 = 63\n",
      "7 * 10 = 70\n"
     ]
    }
   ],
   "source": [
    "a=7\n",
    "c=lambda s,w:s*w\n",
    "for i in range(1,11):\n",
    "    print(a,'*',i,'=',c(a,i))"
   ]
  },
  {
   "cell_type": "code",
   "execution_count": 59,
   "id": "78a3416b",
   "metadata": {},
   "outputs": [
    {
     "name": "stdout",
     "output_type": "stream",
     "text": [
      "18 * 1 = 18\n",
      "18 * 2 = 36\n",
      "18 * 3 = 54\n",
      "18 * 4 = 72\n",
      "18 * 5 = 90\n",
      "18 * 6 = 108\n",
      "18 * 7 = 126\n",
      "18 * 8 = 144\n",
      "18 * 9 = 162\n",
      "18 * 10 = 180\n"
     ]
    }
   ],
   "source": [
    "a=18\n",
    "c=lambda s,d:s*d\n",
    "for i in range(1,11):\n",
    "    print(a,'*',i,'=',c(a,i))"
   ]
  },
  {
   "cell_type": "code",
   "execution_count": 61,
   "id": "449bcf80",
   "metadata": {},
   "outputs": [
    {
     "name": "stdout",
     "output_type": "stream",
     "text": [
      "64\n"
     ]
    }
   ],
   "source": [
    "def addition(a,b):\n",
    "    print(a+b)\n",
    "    \n",
    "addition(27,37)    "
   ]
  },
  {
   "cell_type": "code",
   "execution_count": 62,
   "id": "0f37775c",
   "metadata": {},
   "outputs": [
    {
     "name": "stdout",
     "output_type": "stream",
     "text": [
      "100\n"
     ]
    }
   ],
   "source": [
    "addition(45,55)"
   ]
  },
  {
   "cell_type": "code",
   "execution_count": 63,
   "id": "e4d0b799",
   "metadata": {},
   "outputs": [
    {
     "name": "stdout",
     "output_type": "stream",
     "text": [
      "400\n"
     ]
    }
   ],
   "source": [
    "a=100\n",
    "b=300\n",
    "print(a+b)"
   ]
  },
  {
   "cell_type": "code",
   "execution_count": 64,
   "id": "09fbe7d4",
   "metadata": {},
   "outputs": [
    {
     "name": "stdout",
     "output_type": "stream",
     "text": [
      "130\n"
     ]
    }
   ],
   "source": [
    "def substrication(x,y):\n",
    "    print(x-y)\n",
    "    \n",
    "substrication(150,20)    "
   ]
  },
  {
   "cell_type": "code",
   "execution_count": 65,
   "id": "06cce683",
   "metadata": {},
   "outputs": [
    {
     "name": "stdout",
     "output_type": "stream",
     "text": [
      "50\n"
     ]
    }
   ],
   "source": [
    "substrication (200,150)"
   ]
  },
  {
   "cell_type": "code",
   "execution_count": 66,
   "id": "7119b6c0",
   "metadata": {},
   "outputs": [
    {
     "name": "stdout",
     "output_type": "stream",
     "text": [
      "180\n"
     ]
    }
   ],
   "source": [
    "substrication(200,20)"
   ]
  },
  {
   "cell_type": "code",
   "execution_count": 67,
   "id": "3d0dce66",
   "metadata": {},
   "outputs": [
    {
     "name": "stdout",
     "output_type": "stream",
     "text": [
      "150\n"
     ]
    }
   ],
   "source": [
    "c=lambda a,b:a+b\n",
    "print(c(130,20))"
   ]
  },
  {
   "cell_type": "code",
   "execution_count": 68,
   "id": "8281c92b",
   "metadata": {},
   "outputs": [
    {
     "name": "stdout",
     "output_type": "stream",
     "text": [
      "20\n"
     ]
    }
   ],
   "source": [
    "c=lambda x,y:x*y\n",
    "print(c(5,4))"
   ]
  },
  {
   "cell_type": "code",
   "execution_count": 80,
   "id": "8b0879d6",
   "metadata": {},
   "outputs": [
    {
     "name": "stdout",
     "output_type": "stream",
     "text": [
      "[False, True, False, True, False, True, False, True, False, True]\n"
     ]
    }
   ],
   "source": [
    "sol = map(lambda x: x%2==0, [11,12,13,14,15,16,17,18,19,20])\n",
    "print(list(sol))"
   ]
  },
  {
   "cell_type": "code",
   "execution_count": 83,
   "id": "33948bc0",
   "metadata": {},
   "outputs": [
    {
     "name": "stdout",
     "output_type": "stream",
     "text": [
      "[False, True, False, True, False, True, False, True, False, True]\n"
     ]
    }
   ],
   "source": [
    "a=map(lambda y: y%2==0,[1,2,3,4,5,6,7,8,9,10])\n",
    "print(list(a))"
   ]
  },
  {
   "cell_type": "code",
   "execution_count": 86,
   "id": "ca8341e3",
   "metadata": {},
   "outputs": [
    {
     "name": "stdout",
     "output_type": "stream",
     "text": [
      "[2, 4, 6, 8, 10]\n"
     ]
    }
   ],
   "source": [
    "b=filter(lambda y: y%2==0,[1,2,3,4,5,6,7,8,9,10])\n",
    "print(list(b))"
   ]
  },
  {
   "cell_type": "code",
   "execution_count": 88,
   "id": "12bdada4",
   "metadata": {},
   "outputs": [
    {
     "data": {
      "text/plain": [
       "100"
      ]
     },
     "execution_count": 88,
     "metadata": {},
     "output_type": "execute_result"
    }
   ],
   "source": [
    "reduce(lambda x,y:x+y,[10,20,30,40])"
   ]
  },
  {
   "cell_type": "code",
   "execution_count": 90,
   "id": "f202e8b5",
   "metadata": {},
   "outputs": [
    {
     "name": "stdout",
     "output_type": "stream",
     "text": [
      "[4, 6, 8, 10, 12]\n"
     ]
    }
   ],
   "source": [
    "# Filter with Map\n",
    "\n",
    "v=filter(lambda x: x%2==0,map(lambda x:x+2,[1,2,3,4,5,6,7,8,9,10]))\n",
    "print(list(v))"
   ]
  },
  {
   "cell_type": "code",
   "execution_count": 91,
   "id": "6f59f80f",
   "metadata": {},
   "outputs": [
    {
     "name": "stdout",
     "output_type": "stream",
     "text": [
      "[4, 6, 8, 10, 12]\n"
     ]
    }
   ],
   "source": [
    "# map  with filter:\n",
    "v=map(lambda x:x+2,filter(lambda x:x%2==0,[1,2,3,4,5,6,7,8,9,10]))\n",
    "print(list(v))"
   ]
  },
  {
   "cell_type": "code",
   "execution_count": 2,
   "id": "a455b026",
   "metadata": {},
   "outputs": [
    {
     "name": "stdout",
     "output_type": "stream",
     "text": [
      "i am going to Banglore\n",
      "i am going to delhi\n"
     ]
    }
   ],
   "source": [
    "def fun():\n",
    "    print('i am going to Banglore')\n",
    "    print('i am going to delhi')\n",
    "    \n",
    "fun()    "
   ]
  },
  {
   "cell_type": "code",
   "execution_count": 4,
   "id": "ff85519c",
   "metadata": {},
   "outputs": [
    {
     "name": "stdout",
     "output_type": "stream",
     "text": [
      "80\n"
     ]
    }
   ],
   "source": [
    "def addition(p,q):\n",
    "    print(p+q)\n",
    "    \n",
    "addition(35,45)    "
   ]
  },
  {
   "cell_type": "code",
   "execution_count": 5,
   "id": "3784be29",
   "metadata": {},
   "outputs": [
    {
     "name": "stdout",
     "output_type": "stream",
     "text": [
      "156\n"
     ]
    }
   ],
   "source": [
    "addition(67,89)"
   ]
  },
  {
   "cell_type": "code",
   "execution_count": 6,
   "id": "14ec5cb5",
   "metadata": {},
   "outputs": [
    {
     "name": "stdout",
     "output_type": "stream",
     "text": [
      "80\n"
     ]
    }
   ],
   "source": [
    "def substrication(p,r):\n",
    "    print(p-r)\n",
    "    \n",
    "substrication(135,55)    "
   ]
  },
  {
   "cell_type": "code",
   "execution_count": 7,
   "id": "cefa066e",
   "metadata": {},
   "outputs": [
    {
     "name": "stdout",
     "output_type": "stream",
     "text": [
      "40\n"
     ]
    }
   ],
   "source": [
    "substrication(45,5)"
   ]
  },
  {
   "cell_type": "code",
   "execution_count": 8,
   "id": "6c36c0f0",
   "metadata": {},
   "outputs": [
    {
     "name": "stdout",
     "output_type": "stream",
     "text": [
      "450\n"
     ]
    }
   ],
   "source": [
    "# without function\n",
    "a=100\n",
    "b=350\n",
    "print(a+b)"
   ]
  },
  {
   "cell_type": "code",
   "execution_count": 11,
   "id": "dcfdbe51",
   "metadata": {},
   "outputs": [
    {
     "name": "stdout",
     "output_type": "stream",
     "text": [
      "300\n"
     ]
    }
   ],
   "source": [
    "def addition(x,y=250):\n",
    "     print(x+y)\n",
    "    \n",
    "addition(50)    "
   ]
  },
  {
   "cell_type": "code",
   "execution_count": 12,
   "id": "05eb2ca2",
   "metadata": {},
   "outputs": [
    {
     "name": "stdout",
     "output_type": "stream",
     "text": [
      "50\n"
     ]
    }
   ],
   "source": [
    "def multiplication(x,y=5):\n",
    "    print(x*y)\n",
    "    \n",
    "    \n",
    "multiplication(10)    "
   ]
  },
  {
   "cell_type": "code",
   "execution_count": 14,
   "id": "85eb0814",
   "metadata": {},
   "outputs": [
    {
     "name": "stdout",
     "output_type": "stream",
     "text": [
      "25000\n"
     ]
    }
   ],
   "source": [
    "def fun(a,b):\n",
    "    print(a*b)\n",
    "    \n",
    "fun(a=100,b=250)    "
   ]
  },
  {
   "cell_type": "code",
   "execution_count": 15,
   "id": "8e8cf811",
   "metadata": {},
   "outputs": [
    {
     "name": "stdout",
     "output_type": "stream",
     "text": [
      "250\n"
     ]
    }
   ],
   "source": [
    "def fun(r,s):\n",
    "    print(r+s)\n",
    "    \n",
    "w=150\n",
    "r=100\n",
    "\n",
    "fun(w,r)"
   ]
  },
  {
   "cell_type": "code",
   "execution_count": 16,
   "id": "f62247a3",
   "metadata": {},
   "outputs": [
    {
     "name": "stdout",
     "output_type": "stream",
     "text": [
      "150\n"
     ]
    }
   ],
   "source": [
    "# Global Varable\n",
    "a=100\n",
    "def fun():\n",
    "    print(a+50)\n",
    "    \n",
    "fun()    "
   ]
  },
  {
   "cell_type": "code",
   "execution_count": 17,
   "id": "1d02cc4f",
   "metadata": {},
   "outputs": [
    {
     "name": "stdout",
     "output_type": "stream",
     "text": [
      "130\n"
     ]
    }
   ],
   "source": [
    "y=150\n",
    "def fun():\n",
    "    print(y-20)\n",
    " \n",
    "fun()"
   ]
  },
  {
   "cell_type": "code",
   "execution_count": 18,
   "id": "926a6370",
   "metadata": {},
   "outputs": [
    {
     "name": "stdout",
     "output_type": "stream",
     "text": [
      "1000\n"
     ]
    }
   ],
   "source": [
    "# local variable\n",
    "def fun():\n",
    "    k=2000\n",
    "    print(k-1000)\n",
    "    \n",
    "fun()    "
   ]
  },
  {
   "cell_type": "code",
   "execution_count": 20,
   "id": "9d6fd9d7",
   "metadata": {},
   "outputs": [
    {
     "name": "stdout",
     "output_type": "stream",
     "text": [
      "odd number 11\n",
      "even number 12\n",
      "odd number 13\n",
      "even number 14\n",
      "odd number 15\n",
      "even number 16\n",
      "odd number 17\n",
      "even number 18\n",
      "odd number 19\n",
      "even number 20\n"
     ]
    }
   ],
   "source": [
    "def even(a,v):\n",
    "    for i in range(a,v):\n",
    "        if i%2==0:\n",
    "            print('even number',i)\n",
    "            \n",
    "        else:\n",
    "            print('odd number',i)\n",
    "even(11,21)            \n",
    "            \n",
    "            "
   ]
  },
  {
   "cell_type": "code",
   "execution_count": 23,
   "id": "c226d597",
   "metadata": {},
   "outputs": [
    {
     "name": "stdout",
     "output_type": "stream",
     "text": [
      "even number 11\n",
      "odd number 12\n",
      "even number 13\n",
      "odd number 14\n",
      "even number 15\n",
      "odd number 16\n",
      "even number 17\n",
      "odd number 18\n",
      "even number 19\n",
      "odd number 20\n"
     ]
    }
   ],
   "source": [
    "a=lambda x:x%2==0\n",
    "for i in range(11,21):\n",
    "    if a(i)==0:\n",
    "        print('even number',i)\n",
    "        \n",
    "    else:\n",
    "        print('odd number',i)\n",
    "        \n",
    "        "
   ]
  },
  {
   "cell_type": "code",
   "execution_count": 24,
   "id": "31257476",
   "metadata": {},
   "outputs": [
    {
     "name": "stdout",
     "output_type": "stream",
     "text": [
      "18 * 1 = 18\n",
      "18 * 2 = 36\n",
      "18 * 3 = 54\n",
      "18 * 4 = 72\n",
      "18 * 5 = 90\n",
      "18 * 6 = 108\n",
      "18 * 7 = 126\n",
      "18 * 8 = 144\n",
      "18 * 9 = 162\n",
      "18 * 10 = 180\n"
     ]
    }
   ],
   "source": [
    "a=18\n",
    "for i in range(1,11):\n",
    "    print(a,'*',i,'=',a*i)"
   ]
  },
  {
   "cell_type": "code",
   "execution_count": 27,
   "id": "6dbccb80",
   "metadata": {},
   "outputs": [
    {
     "name": "stdout",
     "output_type": "stream",
     "text": [
      "18 * 1 = 18\n",
      "18 * 2 = 36\n",
      "18 * 3 = 54\n",
      "18 * 4 = 72\n",
      "18 * 5 = 90\n",
      "18 * 6 = 108\n",
      "18 * 7 = 126\n",
      "18 * 8 = 144\n",
      "18 * 9 = 162\n",
      "18 * 10 = 180\n"
     ]
    }
   ],
   "source": [
    "a=18\n",
    "c=lambda x,y:x*y\n",
    "for i in range(1,11):\n",
    "    print(a,'*',i,'=',c(a,i))"
   ]
  },
  {
   "cell_type": "code",
   "execution_count": 28,
   "id": "d0a2c42a",
   "metadata": {},
   "outputs": [
    {
     "name": "stdout",
     "output_type": "stream",
     "text": [
      "['even', None, 'even', None, 'even', None, 'even', None, 'even', None, 'even']\n"
     ]
    }
   ],
   "source": [
    "def fun(a):\n",
    "    if a%2==0:\n",
    "        return 'even'\n",
    "a=map(fun,[20,21,22,23,24,25,26,27,28,29,30])\n",
    "print(list(a))"
   ]
  },
  {
   "cell_type": "code",
   "execution_count": 31,
   "id": "8f9c2895",
   "metadata": {},
   "outputs": [
    {
     "name": "stdout",
     "output_type": "stream",
     "text": [
      "[False, True, False, True, True, True, True, True, True, True]\n"
     ]
    }
   ],
   "source": [
    "b=map(lambda x:x%2==0,[11,20,31,40,50,60,70,80,90,100])\n",
    "print(list(b))"
   ]
  },
  {
   "cell_type": "code",
   "execution_count": 32,
   "id": "c7998fea",
   "metadata": {},
   "outputs": [
    {
     "name": "stdout",
     "output_type": "stream",
     "text": [
      "[20, 22, 24, 26, 28, 30]\n"
     ]
    }
   ],
   "source": [
    "def fun(a):\n",
    "    if a%2==0:\n",
    "        return 'even'\n",
    "    \n",
    "a=filter(fun,[20,21,22,23,24,25,26,27,28,29,30])\n",
    "print(list(a))"
   ]
  },
  {
   "cell_type": "code",
   "execution_count": 33,
   "id": "006c7d6e",
   "metadata": {},
   "outputs": [
    {
     "name": "stdout",
     "output_type": "stream",
     "text": [
      "[20, 40, 50, 60, 70, 80, 90, 100]\n"
     ]
    }
   ],
   "source": [
    "b=filter(lambda x:x%2==0,[11,20,31,40,50,60,70,80,90,100])\n",
    "print(list(b))"
   ]
  },
  {
   "cell_type": "code",
   "execution_count": 36,
   "id": "24e0fb5c",
   "metadata": {},
   "outputs": [],
   "source": [
    "\n",
    "from functools import reduce"
   ]
  },
  {
   "cell_type": "code",
   "execution_count": 37,
   "id": "f81f08c0",
   "metadata": {},
   "outputs": [
    {
     "data": {
      "text/plain": [
       "250"
      ]
     },
     "execution_count": 37,
     "metadata": {},
     "output_type": "execute_result"
    }
   ],
   "source": [
    "reduce(lambda x,y:x+y,[10,50,90,100])"
   ]
  },
  {
   "cell_type": "code",
   "execution_count": null,
   "id": "10cea058",
   "metadata": {},
   "outputs": [],
   "source": []
  }
 ],
 "metadata": {
  "kernelspec": {
   "display_name": "Python 3 (ipykernel)",
   "language": "python",
   "name": "python3"
  },
  "language_info": {
   "codemirror_mode": {
    "name": "ipython",
    "version": 3
   },
   "file_extension": ".py",
   "mimetype": "text/x-python",
   "name": "python",
   "nbconvert_exporter": "python",
   "pygments_lexer": "ipython3",
   "version": "3.11.5"
  }
 },
 "nbformat": 4,
 "nbformat_minor": 5
}
